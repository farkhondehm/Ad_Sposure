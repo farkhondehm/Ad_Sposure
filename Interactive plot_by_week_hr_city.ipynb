{
 "cells": [
  {
   "cell_type": "code",
   "execution_count": 2,
   "metadata": {},
   "outputs": [],
   "source": [
    "import gzip\n",
    "import numpy as np\n",
    "import pandas as pd\n",
    "import matplotlib as plt\n",
    "import gmaps\n",
    "import gmaps.datasets\n",
    "import gmaps.geojson_geometries\n",
    "%matplotlib inline\n",
    "import matplotlib.pyplot as plt\n",
    "import os\n",
    "os.environ[\"PROJ_LIB\"] = \"C:/Users/User/Anaconda3/pkgs/proj4-5.2.0-ha925a31_1/Library/share\"\n",
    "import gmplot\n",
    "#import basemap\n",
    "from mpl_toolkits import basemap\n",
    "from mpl_toolkits.basemap import Basemap\n",
    "import requests "
   ]
  },
  {
   "cell_type": "code",
   "execution_count": 3,
   "metadata": {},
   "outputs": [],
   "source": [
    "f_new=pd.read_csv('C:/Users/User/Downloads/dump.csv/select___from_scans__where_device_in_965.csv', sep=',',  encoding='latin1', engine='python')"
   ]
  },
  {
   "cell_type": "code",
   "execution_count": 4,
   "metadata": {},
   "outputs": [],
   "source": [
    "f_new['ts']=f_new['deafult_ts'].astype('datetime64[ns]')"
   ]
  },
  {
   "cell_type": "code",
   "execution_count": 5,
   "metadata": {},
   "outputs": [],
   "source": [
    "import datetime\n",
    "\n",
    "f_new['weekday']=f_new['ts'].dt.weekday_name\n"
   ]
  },
  {
   "cell_type": "code",
   "execution_count": 6,
   "metadata": {
    "scrolled": true
   },
   "outputs": [],
   "source": [
    "df=f_new[pd.notnull(f_new['city'])]\n"
   ]
  },
  {
   "cell_type": "code",
   "execution_count": 7,
   "metadata": {},
   "outputs": [],
   "source": [
    "plt.rcParams['figure.figsize']=(8,4)"
   ]
  },
  {
   "cell_type": "code",
   "execution_count": 8,
   "metadata": {},
   "outputs": [],
   "source": [
    "ff=df.groupby(['city'])['device','mac_addr'].count()\n",
    "ff.to_csv('out.csv')\n"
   ]
  },
  {
   "cell_type": "code",
   "execution_count": 9,
   "metadata": {
    "scrolled": true
   },
   "outputs": [],
   "source": [
    "df_1= df.set_index(['ts'])\n",
    "df_1.drop(['id','oui', 'ssid','rssi', 'channel', 'created', 'kinesis_ts', 'deafult_ts'], axis=1, inplace=True)"
   ]
  },
  {
   "cell_type": "code",
   "execution_count": 10,
   "metadata": {
    "scrolled": true
   },
   "outputs": [
    {
     "data": {
      "text/plain": [
       "Text(0.5, 0, 'Hour')"
      ]
     },
     "execution_count": 10,
     "metadata": {},
     "output_type": "execute_result"
    },
    {
     "data": {
      "image/png": "[encoded data removed]",
      "text/plain": [
       "<Figure size 576x288 with 1 Axes>"
      ]
     },
     "metadata": {
      "needs_background": "light"
     },
     "output_type": "display_data"
    }
   ],
   "source": [
    "pl=df.groupby(['hour'])['mac_addr'].count()\n",
    "pl.plot(kind='bar')\n",
    "plt.ylabel('Impression')\n",
    "plt.xlabel('Hour')\n"
   ]
  },
  {
   "cell_type": "code",
   "execution_count": 11,
   "metadata": {},
   "outputs": [],
   "source": [
    "pl_1=pd.DataFrame({'hr': pl.index, 'imp': pl.values})"
   ]
  },
  {
   "cell_type": "code",
   "execution_count": 12,
   "metadata": {},
   "outputs": [
    {
     "data": {
      "text/html": [
       "        <script type=\"text/javascript\">\n",
       "        window.PlotlyConfig = {MathJaxConfig: 'local'};\n",
       "        if (window.MathJax) {MathJax.Hub.Config({SVG: {font: \"STIX-Web\"}});}\n",
       "        if (typeof require !== 'undefined') {\n",
       "        require.undef(\"plotly\");\n",
       "        requirejs.config({\n",
       "            paths: {\n",
       "                'plotly': ['https://cdn.plot.ly/plotly-latest.min']\n",
       "            }\n",
       "        });\n",
       "        require(['plotly'], function(Plotly) {\n",
       "            window._Plotly = Plotly;\n",
       "        });\n",
       "        }\n",
       "        </script>\n",
       "        "
      ]
     },
     "metadata": {},
     "output_type": "display_data"
    }
   ],
   "source": [
    "from plotly.offline import iplot, init_notebook_mode\n",
    "import plotly.graph_objs as go\n",
    "import plotly.io as pio\n",
    "\n",
    "import os\n",
    "import numpy as np\n",
    "\n",
    "init_notebook_mode(connected=True)"
   ]
  },
  {
   "cell_type": "code",
   "execution_count": 56,
   "metadata": {
    "scrolled": true
   },
   "outputs": [
    {
     "data": {
      "application/vnd.plotly.v1+json": {
       "config": {
        "linkText": "Export to plotly.your-company.com",
        "plotlyServerURL": "https://plotly.your-company.com",
        "responsive": true,
        "showLink": false
       },
       "data": [
        {
         "type": "bar",
         "uid": "cef9ca02-fb05-4b91-a772-f559e4872b1e",
         "x": [
          0,
          1,
          2,
          3,
          4,
          5,
          6,
          7,
          8,
          9,
          10,
          11,
          12,
          13,
          14,
          15,
          16,
          17,
          18,
          19,
          20,
          21,
          22,
          23
         ],
         "y": [
          33622,
          35596,
          30117,
          28830,
          32747,
          27561,
          22591,
          25577,
          40724,
          54772,
          105253,
          127765,
          205804,
          220220,
          209071,
          241116,
          220766,
          208171,
          162091,
          148221,
          138771,
          77837,
          46674,
          36970
         ]
        }
       ],
       "layout": {
        "title": {
         "text": ""
        },
        "xaxis": {
         "tickfont": {
          "size": 13
         },
         "tickmode": "linear",
         "title": {
          "font": {
           "size": 27
          },
          "text": "Hour"
         }
        },
        "yaxis": {
         "tickfont": {
          "size": 20
         },
         "title": {
          "font": {
           "size": 20
          },
          "text": "No of People Exposed to Ads."
         }
        }
       }
      },
      "text/html": [
       "<div>\n",
       "        \n",
       "        \n",
       "            <div id=\"9a4fde56-4726-418e-bc37-55a499c1600a\" class=\"plotly-graph-div\" style=\"height:525px; width:100%;\"></div>\n",
       "            <script type=\"text/javascript\">\n",
       "                require([\"plotly\"], function(Plotly) {\n",
       "                    window.PLOTLYENV=window.PLOTLYENV || {};\n",
       "                    window.PLOTLYENV.BASE_URL='https://plotly.your-company.com';\n",
       "                    \n",
       "                if (document.getElementById(\"9a4fde56-4726-418e-bc37-55a499c1600a\")) {\n",
       "                    Plotly.newPlot(\n",
       "                        '9a4fde56-4726-418e-bc37-55a499c1600a',\n",
       "                        [{\"type\": \"bar\", \"uid\": \"895f067e-83cd-47c6-bb7b-f8ae50fc4464\", \"x\": [0, 1, 2, 3, 4, 5, 6, 7, 8, 9, 10, 11, 12, 13, 14, 15, 16, 17, 18, 19, 20, 21, 22, 23], \"y\": [33622, 35596, 30117, 28830, 32747, 27561, 22591, 25577, 40724, 54772, 105253, 127765, 205804, 220220, 209071, 241116, 220766, 208171, 162091, 148221, 138771, 77837, 46674, 36970]}],\n",
       "                        {\"title\": {\"text\": \"\"}, \"xaxis\": {\"tickfont\": {\"size\": 13}, \"tickmode\": \"linear\", \"title\": {\"font\": {\"size\": 27}, \"text\": \"Hour\"}}, \"yaxis\": {\"tickfont\": {\"size\": 20}, \"title\": {\"font\": {\"size\": 20}, \"text\": \"No of People Exposed to Ads.\"}}},\n",
       "                        {\"showLink\": false, \"linkText\": \"Export to plotly.your-company.com\", \"plotlyServerURL\": \"https://plotly.your-company.com\", \"responsive\": true}\n",
       "                    ).then(function(){\n",
       "                            \n",
       "var gd = document.getElementById('9a4fde56-4726-418e-bc37-55a499c1600a');\n",
       "var x = new MutationObserver(function (mutations, observer) {{\n",
       "        var display = window.getComputedStyle(gd).display;\n",
       "        if (!display || display === 'none') {{\n",
       "            console.log([gd, 'removed!']);\n",
       "            Plotly.purge(gd);\n",
       "            observer.disconnect();\n",
       "        }}\n",
       "}});\n",
       "\n",
       "// Listen for the removal of the full notebook cells\n",
       "var notebookContainer = gd.closest('#notebook-container');\n",
       "if (notebookContainer) {{\n",
       "    x.observe(notebookContainer, {childList: true});\n",
       "}}\n",
       "\n",
       "// Listen for the clearing of the current output cell\n",
       "var outputEl = gd.closest('.output');\n",
       "if (outputEl) {{\n",
       "    x.observe(outputEl, {childList: true});\n",
       "}}\n",
       "\n",
       "                        })\n",
       "                };\n",
       "                });\n",
       "            </script>\n",
       "        </div>"
      ]
     },
     "metadata": {},
     "output_type": "display_data"
    }
   ],
   "source": [
    "\n",
    "x = pl_1.hr\n",
    "y = pl_1.imp\n",
    "\n",
    "data = [go.Bar(x=x, y=y)]\n",
    "\n",
    "layout = go.Layout(\n",
    "    title='',\n",
    "    \n",
    "    xaxis=dict(title='Hour',tickfont=dict(size=13), titlefont=dict(size=27), tickmode='linear'), \n",
    "    \n",
    "    yaxis=dict(title='No of People Exposed to Ads.',tickfont=dict(size=20), titlefont=dict(size=20)))\n",
    "    \n",
    "   \n",
    "fig = go.Figure(data=data, layout=layout)\n",
    "\n",
    "iplot(fig, filename='style-bar')\n",
    "\n"
   ]
  },
  {
   "cell_type": "code",
   "execution_count": 57,
   "metadata": {},
   "outputs": [
    {
     "data": {
      "text/plain": [
       "'fig3.html'"
      ]
     },
     "execution_count": 57,
     "metadata": {},
     "output_type": "execute_result"
    }
   ],
   "source": [
    "\n",
    "import plotly\n",
    "if not os.path.exists('images'):\n",
    "    os.mkdir('images')\n",
    "    \n",
    "pio.write_image(fig, 'images/fig1.png')\n",
    "plotly.offline.plot(fig, filename='fig3.html') "
   ]
  },
  {
   "cell_type": "code",
   "execution_count": 16,
   "metadata": {},
   "outputs": [],
   "source": [
    "import plotly.io as pio\n",
    "\n",
    "static_image_bytes = pio.to_image(fig, format='png')"
   ]
  },
  {
   "cell_type": "code",
   "execution_count": 17,
   "metadata": {},
   "outputs": [
    {
     "data": {
      "image/png": "[encoded data removed]",
      "text/plain": [
       "<IPython.core.display.Image object>"
      ]
     },
     "execution_count": 17,
     "metadata": {},
     "output_type": "execute_result"
    }
   ],
   "source": [
    "from IPython.display import Image\n",
    "\n",
    "Image(static_image_bytes)"
   ]
  },
  {
   "cell_type": "code",
   "execution_count": 18,
   "metadata": {},
   "outputs": [
    {
     "ename": "SyntaxError",
     "evalue": "invalid syntax (<ipython-input-18-afbd31e84d5b>, line 1)",
     "output_type": "error",
     "traceback": [
      "\u001b[1;36m  File \u001b[1;32m\"<ipython-input-18-afbd31e84d5b>\"\u001b[1;36m, line \u001b[1;32m1\u001b[0m\n\u001b[1;33m    nfrom IPython.display import IFrame\u001b[0m\n\u001b[1;37m                ^\u001b[0m\n\u001b[1;31mSyntaxError\u001b[0m\u001b[1;31m:\u001b[0m invalid syntax\n"
     ]
    }
   ],
   "source": [
    "nfrom IPython.display import IFrame\n",
    "IFrame(src= \"https://dash-simple-apps.plotly.host/dash-barplot/code\", width=\"80%\", height=500, frameBorder=\"0\")"
   ]
  },
  {
   "cell_type": "code",
   "execution_count": 19,
   "metadata": {
    "scrolled": true
   },
   "outputs": [
    {
     "data": {
      "text/plain": [
       "<matplotlib.axes._subplots.AxesSubplot at 0x1944de1fb38>"
      ]
     },
     "execution_count": 19,
     "metadata": {},
     "output_type": "execute_result"
    },
    {
     "data": {
      "image/png": "[encoded data removed]",
      "text/plain": [
       "<Figure size 576x288 with 1 Axes>"
      ]
     },
     "metadata": {
      "needs_background": "light"
     },
     "output_type": "display_data"
    }
   ],
   "source": [
    "df.groupby(['month'])['mac_addr'].count().plot.bar()"
   ]
  },
  {
   "cell_type": "code",
   "execution_count": 20,
   "metadata": {
    "scrolled": true
   },
   "outputs": [
    {
     "data": {
      "text/plain": [
       "<matplotlib.axes._subplots.AxesSubplot at 0x1944ddd0dd8>"
      ]
     },
     "execution_count": 20,
     "metadata": {},
     "output_type": "execute_result"
    },
    {
     "data": {
      "image/png": "[encoded data removed]",
      "text/plain": [
       "<Figure size 576x288 with 1 Axes>"
      ]
     },
     "metadata": {
      "needs_background": "light"
     },
     "output_type": "display_data"
    }
   ],
   "source": [
    "df_1.groupby('state').resample('D')['mac_addr'].count().plot.bar()"
   ]
  },
  {
   "cell_type": "code",
   "execution_count": 21,
   "metadata": {},
   "outputs": [],
   "source": [
    "dic= {965: '29', 2808: '29', 2859: '29', 2791:'29', \n",
    "      945: '35', 2739: '35',\n",
    "      2848:'59', 1016:'59', 1237:'59', 1007:'59', 2691: '59', 1098:'59', 1209: '59',\n",
    "      1348: '82', 1128:'82', 2849: '82'\n",
    "     }"
   ]
  },
  {
   "cell_type": "code",
   "execution_count": 22,
   "metadata": {
    "scrolled": false
   },
   "outputs": [
    {
     "data": {
      "text/html": [
       "<div>\n",
       "<style scoped>\n",
       "    .dataframe tbody tr th:only-of-type {\n",
       "        vertical-align: middle;\n",
       "    }\n",
       "\n",
       "    .dataframe tbody tr th {\n",
       "        vertical-align: top;\n",
       "    }\n",
       "\n",
       "    .dataframe thead th {\n",
       "        text-align: right;\n",
       "    }\n",
       "</style>\n",
       "<table border=\"1\" class=\"dataframe\">\n",
       "  <thead>\n",
       "    <tr style=\"text-align: right;\">\n",
       "      <th></th>\n",
       "      <th>lon</th>\n",
       "      <th>lat</th>\n",
       "      <th>speed</th>\n",
       "      <th>device</th>\n",
       "      <th>mac_addr</th>\n",
       "      <th>timestamp</th>\n",
       "      <th>alt</th>\n",
       "      <th>year</th>\n",
       "      <th>month</th>\n",
       "      <th>day</th>\n",
       "      <th>hour</th>\n",
       "      <th>city</th>\n",
       "      <th>state</th>\n",
       "      <th>country</th>\n",
       "      <th>weekday</th>\n",
       "    </tr>\n",
       "    <tr>\n",
       "      <th>ts</th>\n",
       "      <th></th>\n",
       "      <th></th>\n",
       "      <th></th>\n",
       "      <th></th>\n",
       "      <th></th>\n",
       "      <th></th>\n",
       "      <th></th>\n",
       "      <th></th>\n",
       "      <th></th>\n",
       "      <th></th>\n",
       "      <th></th>\n",
       "      <th></th>\n",
       "      <th></th>\n",
       "      <th></th>\n",
       "      <th></th>\n",
       "    </tr>\n",
       "  </thead>\n",
       "  <tbody>\n",
       "    <tr>\n",
       "      <th>2019-04-19 00:00:02.274727</th>\n",
       "      <td>-79.525141</td>\n",
       "      <td>43.826516</td>\n",
       "      <td>0.042</td>\n",
       "      <td>59</td>\n",
       "      <td>68:b5:99:8d:f3:e2</td>\n",
       "      <td>1.555632e+09</td>\n",
       "      <td>0.0</td>\n",
       "      <td>2019</td>\n",
       "      <td>4</td>\n",
       "      <td>19</td>\n",
       "      <td>0</td>\n",
       "      <td>Vaughan</td>\n",
       "      <td>Ontario</td>\n",
       "      <td>CA</td>\n",
       "      <td>Friday</td>\n",
       "    </tr>\n",
       "    <tr>\n",
       "      <th>2019-04-19 00:00:08.277610</th>\n",
       "      <td>-79.656987</td>\n",
       "      <td>43.708502</td>\n",
       "      <td>0.124</td>\n",
       "      <td>35</td>\n",
       "      <td>ac:35:ee:12:6f:42</td>\n",
       "      <td>1.555632e+09</td>\n",
       "      <td>0.0</td>\n",
       "      <td>2019</td>\n",
       "      <td>4</td>\n",
       "      <td>19</td>\n",
       "      <td>0</td>\n",
       "      <td>Etobicoke</td>\n",
       "      <td>Ontario</td>\n",
       "      <td>CA</td>\n",
       "      <td>Friday</td>\n",
       "    </tr>\n",
       "    <tr>\n",
       "      <th>2019-04-19 00:00:08.277610</th>\n",
       "      <td>-79.656987</td>\n",
       "      <td>43.708502</td>\n",
       "      <td>0.124</td>\n",
       "      <td>35</td>\n",
       "      <td>ac:35:ee:12:6f:42</td>\n",
       "      <td>1.555632e+09</td>\n",
       "      <td>0.0</td>\n",
       "      <td>2019</td>\n",
       "      <td>4</td>\n",
       "      <td>19</td>\n",
       "      <td>0</td>\n",
       "      <td>Etobicoke</td>\n",
       "      <td>Ontario</td>\n",
       "      <td>CA</td>\n",
       "      <td>Friday</td>\n",
       "    </tr>\n",
       "    <tr>\n",
       "      <th>2019-04-19 00:00:09.289182</th>\n",
       "      <td>-79.292785</td>\n",
       "      <td>43.719734</td>\n",
       "      <td>0.023</td>\n",
       "      <td>82</td>\n",
       "      <td>64:d1:54:7b:4f:3b</td>\n",
       "      <td>1.555632e+09</td>\n",
       "      <td>0.0</td>\n",
       "      <td>2019</td>\n",
       "      <td>4</td>\n",
       "      <td>19</td>\n",
       "      <td>0</td>\n",
       "      <td>Scarborough</td>\n",
       "      <td>Ontario</td>\n",
       "      <td>CA</td>\n",
       "      <td>Friday</td>\n",
       "    </tr>\n",
       "    <tr>\n",
       "      <th>2019-04-19 00:00:09.289182</th>\n",
       "      <td>-79.292785</td>\n",
       "      <td>43.719733</td>\n",
       "      <td>0.036</td>\n",
       "      <td>82</td>\n",
       "      <td>64:d1:54:7b:4f:3b</td>\n",
       "      <td>1.555632e+09</td>\n",
       "      <td>0.0</td>\n",
       "      <td>2019</td>\n",
       "      <td>4</td>\n",
       "      <td>19</td>\n",
       "      <td>0</td>\n",
       "      <td>Scarborough</td>\n",
       "      <td>Ontario</td>\n",
       "      <td>CA</td>\n",
       "      <td>Friday</td>\n",
       "    </tr>\n",
       "  </tbody>\n",
       "</table>\n",
       "</div>"
      ],
      "text/plain": [
       "                                  lon        lat  speed device  \\\n",
       "ts                                                               \n",
       "2019-04-19 00:00:02.274727 -79.525141  43.826516  0.042     59   \n",
       "2019-04-19 00:00:08.277610 -79.656987  43.708502  0.124     35   \n",
       "2019-04-19 00:00:08.277610 -79.656987  43.708502  0.124     35   \n",
       "2019-04-19 00:00:09.289182 -79.292785  43.719734  0.023     82   \n",
       "2019-04-19 00:00:09.289182 -79.292785  43.719733  0.036     82   \n",
       "\n",
       "                                     mac_addr     timestamp  alt  year  month  \\\n",
       "ts                                                                              \n",
       "2019-04-19 00:00:02.274727  68:b5:99:8d:f3:e2  1.555632e+09  0.0  2019      4   \n",
       "2019-04-19 00:00:08.277610  ac:35:ee:12:6f:42  1.555632e+09  0.0  2019      4   \n",
       "2019-04-19 00:00:08.277610  ac:35:ee:12:6f:42  1.555632e+09  0.0  2019      4   \n",
       "2019-04-19 00:00:09.289182  64:d1:54:7b:4f:3b  1.555632e+09  0.0  2019      4   \n",
       "2019-04-19 00:00:09.289182  64:d1:54:7b:4f:3b  1.555632e+09  0.0  2019      4   \n",
       "\n",
       "                            day  hour         city    state country weekday  \n",
       "ts                                                                           \n",
       "2019-04-19 00:00:02.274727   19     0      Vaughan  Ontario      CA  Friday  \n",
       "2019-04-19 00:00:08.277610   19     0    Etobicoke  Ontario      CA  Friday  \n",
       "2019-04-19 00:00:08.277610   19     0    Etobicoke  Ontario      CA  Friday  \n",
       "2019-04-19 00:00:09.289182   19     0  Scarborough  Ontario      CA  Friday  \n",
       "2019-04-19 00:00:09.289182   19     0  Scarborough  Ontario      CA  Friday  "
      ]
     },
     "execution_count": 22,
     "metadata": {},
     "output_type": "execute_result"
    }
   ],
   "source": [
    "df_1['device'].replace(dic, inplace=True)\n",
    "df_1.head()"
   ]
  },
  {
   "cell_type": "code",
   "execution_count": 23,
   "metadata": {
    "scrolled": true
   },
   "outputs": [
    {
     "data": {
      "text/plain": [
       "DatetimeIndexResamplerGroupby [freq=<Minute>, axis=0, closed=left, label=left, convention=e, base=0]"
      ]
     },
     "execution_count": 23,
     "metadata": {},
     "output_type": "execute_result"
    }
   ],
   "source": [
    "df_1.groupby(['city','month','day','weekday', 'hour','ts','device']).resample('1Min')\n",
    "\n"
   ]
  },
  {
   "cell_type": "code",
   "execution_count": 69,
   "metadata": {
    "scrolled": true
   },
   "outputs": [
    {
     "data": {
      "application/vnd.plotly.v1+json": {
       "config": {
        "linkText": "Export to plotly.your-company.com",
        "plotlyServerURL": "https://plotly.your-company.com",
        "responsive": true,
        "showLink": false
       },
       "data": [
        {
         "type": "bar",
         "uid": "b87d147c-3c6c-43f2-ab24-574d250253ad",
         "x": [
          "Monday",
          "Tuesday",
          "Wednesday",
          "Thursday",
          "Friday",
          "Saturday",
          "Sunday"
         ],
         "y": [
          455679,
          572244,
          494056,
          386283,
          410436,
          139795,
          22374
         ]
        }
       ],
       "layout": {
        "title": {
         "text": ""
        },
        "xaxis": {
         "tickfont": {
          "size": 10
         },
         "title": {
          "font": {
           "size": 15
          },
          "text": ""
         }
        },
        "yaxis": {
         "tickfont": {
          "size": 20
         },
         "title": {
          "font": {
           "size": 20
          },
          "text": "No of People Exposed to Ads"
         }
        }
       }
      },
      "text/html": [
       "<div>\n",
       "        \n",
       "        \n",
       "            <div id=\"a9e62e87-ff36-46b1-bbbe-a7d269b300f8\" class=\"plotly-graph-div\" style=\"height:525px; width:100%;\"></div>\n",
       "            <script type=\"text/javascript\">\n",
       "                require([\"plotly\"], function(Plotly) {\n",
       "                    window.PLOTLYENV=window.PLOTLYENV || {};\n",
       "                    window.PLOTLYENV.BASE_URL='https://plotly.your-company.com';\n",
       "                    \n",
       "                if (document.getElementById(\"a9e62e87-ff36-46b1-bbbe-a7d269b300f8\")) {\n",
       "                    Plotly.newPlot(\n",
       "                        'a9e62e87-ff36-46b1-bbbe-a7d269b300f8',\n",
       "                        [{\"type\": \"bar\", \"uid\": \"4a7c877a-bfc3-4fec-a656-b13426591b68\", \"x\": [\"Monday\", \"Tuesday\", \"Wednesday\", \"Thursday\", \"Friday\", \"Saturday\", \"Sunday\"], \"y\": [455679, 572244, 494056, 386283, 410436, 139795, 22374]}],\n",
       "                        {\"title\": {\"text\": \"\"}, \"xaxis\": {\"tickfont\": {\"size\": 10}, \"title\": {\"font\": {\"size\": 15}, \"text\": \"\"}}, \"yaxis\": {\"tickfont\": {\"size\": 20}, \"title\": {\"font\": {\"size\": 20}, \"text\": \"No of People Exposed to Ads\"}}},\n",
       "                        {\"showLink\": false, \"linkText\": \"Export to plotly.your-company.com\", \"plotlyServerURL\": \"https://plotly.your-company.com\", \"responsive\": true}\n",
       "                    ).then(function(){\n",
       "                            \n",
       "var gd = document.getElementById('a9e62e87-ff36-46b1-bbbe-a7d269b300f8');\n",
       "var x = new MutationObserver(function (mutations, observer) {{\n",
       "        var display = window.getComputedStyle(gd).display;\n",
       "        if (!display || display === 'none') {{\n",
       "            console.log([gd, 'removed!']);\n",
       "            Plotly.purge(gd);\n",
       "            observer.disconnect();\n",
       "        }}\n",
       "}});\n",
       "\n",
       "// Listen for the removal of the full notebook cells\n",
       "var notebookContainer = gd.closest('#notebook-container');\n",
       "if (notebookContainer) {{\n",
       "    x.observe(notebookContainer, {childList: true});\n",
       "}}\n",
       "\n",
       "// Listen for the clearing of the current output cell\n",
       "var outputEl = gd.closest('.output');\n",
       "if (outputEl) {{\n",
       "    x.observe(outputEl, {childList: true});\n",
       "}}\n",
       "\n",
       "                        })\n",
       "                };\n",
       "                });\n",
       "            </script>\n",
       "        </div>"
      ]
     },
     "metadata": {},
     "output_type": "display_data"
    }
   ],
   "source": [
    "df_1.groupby(['weekday'])['mac_addr'].count()\n",
    "\n",
    "impression_by_day = df_1['weekday'].value_counts().reset_index()\n",
    "impression_by_day.columns = ['DAY_OF_WEEK', 'count']\n",
    "\n",
    "\n",
    "days = ['Monday','Tuesday','Wednesday','Thursday','Friday','Saturday', 'Sunday']\n",
    "mapping = {day: i for i, day in enumerate(days)}\n",
    "key = impression_by_day['DAY_OF_WEEK'].map(mapping)\n",
    "\n",
    "impression_by_day = impression_by_day.iloc[key.argsort()].set_index('DAY_OF_WEEK')\n",
    "\n",
    "#impression_by_day.plot(kind='bar')\n",
    "\n",
    "type(impression_by_day['count'])\n",
    "\n",
    "\n",
    "#pl_2=pd.DataFrame({'Day_of_ Week': impression_by_day.index, 'Impression': impression_by_day.values})\n",
    "\n",
    "#pl_2\n",
    "\n",
    "\n",
    "x = ['Monday', 'Tuesday', 'Wednesday', 'Thursday', 'Friday', 'Saturday',\n",
    "        'Sunday']\n",
    "\n",
    "\n",
    "\n",
    "y =[455679, 572244, 494056, 386283, 410436, 139795, 22374]\n",
    "\n",
    "\n",
    "data = [go.Bar(x=x, y=y)]\n",
    "\n",
    "layout = go.Layout(\n",
    "    title='',\n",
    "    \n",
    "    xaxis=dict(title='',titlefont=dict(size=15), tickfont=dict(size=10)), \n",
    "    \n",
    "    yaxis=dict(title='No of People Exposed to Ads',titlefont=dict(size=20), tickfont=dict(size=20)))\n",
    "    \n",
    "   \n",
    "fig = go.Figure(data=data, layout=layout)\n",
    "\n",
    "iplot(fig, filename='style-bar')\n",
    "\n"
   ]
  },
  {
   "cell_type": "code",
   "execution_count": 70,
   "metadata": {},
   "outputs": [
    {
     "data": {
      "text/plain": [
       "'fig2.html'"
      ]
     },
     "execution_count": 70,
     "metadata": {},
     "output_type": "execute_result"
    }
   ],
   "source": [
    "pio.write_image(fig, 'images/fig2.png')\n",
    "\n",
    "plotly.offline.plot(fig, filename='fig2.html') "
   ]
  },
  {
   "cell_type": "code",
   "execution_count": 26,
   "metadata": {
    "scrolled": true
   },
   "outputs": [
    {
     "data": {
      "text/plain": [
       "city        ts        \n",
       "Ajax        2019-04-29     2164\n",
       "            2019-04-30     3602\n",
       "            2019-05-01        0\n",
       "            2019-05-02        0\n",
       "            2019-05-03     2157\n",
       "            2019-05-04        0\n",
       "            2019-05-05        0\n",
       "            2019-05-06        0\n",
       "            2019-05-07        0\n",
       "            2019-05-08        0\n",
       "            2019-05-09     2992\n",
       "            2019-05-10     3473\n",
       "            2019-05-11        0\n",
       "            2019-05-12        0\n",
       "            2019-05-13        0\n",
       "            2019-05-14     2424\n",
       "Ancaster    2019-04-24      482\n",
       "            2019-04-25        0\n",
       "            2019-04-26        0\n",
       "            2019-04-27        0\n",
       "            2019-04-28        0\n",
       "            2019-04-29        0\n",
       "            2019-04-30        0\n",
       "            2019-05-01        0\n",
       "            2019-05-02        0\n",
       "            2019-05-03        0\n",
       "            2019-05-04        0\n",
       "            2019-05-05        0\n",
       "            2019-05-06        0\n",
       "            2019-05-07        0\n",
       "                          ...  \n",
       "Welland     2019-05-07        0\n",
       "            2019-05-08     2456\n",
       "Willowdale  2019-04-22     4366\n",
       "            2019-04-23     3008\n",
       "            2019-04-24     4785\n",
       "            2019-04-25     5853\n",
       "            2019-04-26     4280\n",
       "            2019-04-27        0\n",
       "            2019-04-28        0\n",
       "            2019-04-29     5287\n",
       "            2019-04-30     9884\n",
       "            2019-05-01     3729\n",
       "            2019-05-02     2233\n",
       "            2019-05-03     3834\n",
       "            2019-05-04        0\n",
       "            2019-05-05        0\n",
       "            2019-05-06     4020\n",
       "            2019-05-07     2123\n",
       "            2019-05-08     2933\n",
       "            2019-05-09     3254\n",
       "            2019-05-10     7399\n",
       "            2019-05-11      534\n",
       "            2019-05-12        0\n",
       "            2019-05-13     5012\n",
       "            2019-05-14    11683\n",
       "            2019-05-15     2697\n",
       "Woodstock   2019-04-22     3089\n",
       "            2019-04-23        0\n",
       "            2019-04-24        0\n",
       "            2019-04-25     1162\n",
       "Name: mac_addr, Length: 646, dtype: int64"
      ]
     },
     "execution_count": 26,
     "metadata": {},
     "output_type": "execute_result"
    }
   ],
   "source": [
    "df_1.groupby('city').resample('D')['mac_addr'].count()"
   ]
  },
  {
   "cell_type": "code",
   "execution_count": 27,
   "metadata": {
    "scrolled": true
   },
   "outputs": [
    {
     "data": {
      "text/plain": [
       "<matplotlib.axes._subplots.AxesSubplot at 0x1946bbfdc88>"
      ]
     },
     "execution_count": 27,
     "metadata": {},
     "output_type": "execute_result"
    },
    {
     "data": {
      "image/png": "[encoded data removed]",
      "text/plain": [
       "<Figure size 576x288 with 1 Axes>"
      ]
     },
     "metadata": {
      "needs_background": "light"
     },
     "output_type": "display_data"
    }
   ],
   "source": [
    "df_1.groupby(['city'])['mac_addr'].count().plot.bar()"
   ]
  },
  {
   "cell_type": "code",
   "execution_count": 28,
   "metadata": {},
   "outputs": [
    {
     "data": {
      "application/vnd.plotly.v1+json": {
       "config": {
        "linkText": "Export to plotly.your-company.com",
        "plotlyServerURL": "https://plotly.your-company.com",
        "responsive": true,
        "showLink": false
       },
       "data": [
        {
         "type": "bar",
         "uid": "18db2bef-84a1-46a4-983b-f66cdd075463",
         "x": [
          "Ajax",
          "Ancaster",
          "Angus",
          "Bradford West Gwillimbury",
          "Brampton",
          "Brantford",
          "Burlington",
          "Cambridge",
          "Cobourg",
          "Concord",
          "Etobicoke",
          "Guelph",
          "Hamilton",
          "Kitchener",
          "Markham",
          "Milton",
          "Mississauga",
          "Newmarket",
          "Niagara Falls",
          "North York",
          "Oakville",
          "Omemee",
          "Orangeville",
          "Oshawa",
          "Peterborough",
          "Pickering",
          "Port Colborne",
          "Quinte West",
          "Richmond Hill",
          "Scarborough",
          "St. Catharines",
          "Stratford",
          "Thorold",
          "Toronto",
          "Uxbridge",
          "Vaughan",
          "Waterloo",
          "Welland",
          "Willowdale",
          "Woodstock"
         ],
         "y": [
          16812,
          1963,
          724,
          4246,
          158652,
          1129,
          7132,
          13987,
          3120,
          228202,
          766126,
          15116,
          5743,
          15369,
          28130,
          17977,
          68428,
          5089,
          826,
          37169,
          16862,
          182,
          91,
          16140,
          622,
          5083,
          197,
          2687,
          27656,
          259327,
          5024,
          4312,
          1984,
          315018,
          3535,
          326827,
          5545,
          2670,
          86914,
          4251
         ]
        }
       ],
       "layout": {
        "title": {
         "text": "Impression"
        },
        "xaxis": {
         "tickfont": {
          "size": 12
         },
         "title": {
          "text": ""
         }
        },
        "yaxis": {
         "title": {
          "font": {
           "size": 20
          },
          "text": "Count"
         }
        }
       }
      },
      "text/html": [
       "<div>\n",
       "        \n",
       "        \n",
       "            <div id=\"3a6af1d3-3ad8-4608-be27-555a179c305f\" class=\"plotly-graph-div\" style=\"height:525px; width:100%;\"></div>\n",
       "            <script type=\"text/javascript\">\n",
       "                require([\"plotly\"], function(Plotly) {\n",
       "                    window.PLOTLYENV=window.PLOTLYENV || {};\n",
       "                    window.PLOTLYENV.BASE_URL='https://plotly.your-company.com';\n",
       "                    \n",
       "                if (document.getElementById(\"3a6af1d3-3ad8-4608-be27-555a179c305f\")) {\n",
       "                    Plotly.newPlot(\n",
       "                        '3a6af1d3-3ad8-4608-be27-555a179c305f',\n",
       "                        [{\"type\": \"bar\", \"uid\": \"72dbb46f-ce8e-4714-a688-ca9d932edce5\", \"x\": [\"Ajax\", \"Ancaster\", \"Angus\", \"Bradford West Gwillimbury\", \"Brampton\", \"Brantford\", \"Burlington\", \"Cambridge\", \"Cobourg\", \"Concord\", \"Etobicoke\", \"Guelph\", \"Hamilton\", \"Kitchener\", \"Markham\", \"Milton\", \"Mississauga\", \"Newmarket\", \"Niagara Falls\", \"North York\", \"Oakville\", \"Omemee\", \"Orangeville\", \"Oshawa\", \"Peterborough\", \"Pickering\", \"Port Colborne\", \"Quinte West\", \"Richmond Hill\", \"Scarborough\", \"St. Catharines\", \"Stratford\", \"Thorold\", \"Toronto\", \"Uxbridge\", \"Vaughan\", \"Waterloo\", \"Welland\", \"Willowdale\", \"Woodstock\"], \"y\": [16812, 1963, 724, 4246, 158652, 1129, 7132, 13987, 3120, 228202, 766126, 15116, 5743, 15369, 28130, 17977, 68428, 5089, 826, 37169, 16862, 182, 91, 16140, 622, 5083, 197, 2687, 27656, 259327, 5024, 4312, 1984, 315018, 3535, 326827, 5545, 2670, 86914, 4251]}],\n",
       "                        {\"title\": {\"text\": \"Impression\"}, \"xaxis\": {\"tickfont\": {\"size\": 12}, \"title\": {\"text\": \"\"}}, \"yaxis\": {\"title\": {\"font\": {\"size\": 20}, \"text\": \"Count\"}}},\n",
       "                        {\"showLink\": false, \"linkText\": \"Export to plotly.your-company.com\", \"plotlyServerURL\": \"https://plotly.your-company.com\", \"responsive\": true}\n",
       "                    ).then(function(){\n",
       "                            \n",
       "var gd = document.getElementById('3a6af1d3-3ad8-4608-be27-555a179c305f');\n",
       "var x = new MutationObserver(function (mutations, observer) {{\n",
       "        var display = window.getComputedStyle(gd).display;\n",
       "        if (!display || display === 'none') {{\n",
       "            console.log([gd, 'removed!']);\n",
       "            Plotly.purge(gd);\n",
       "            observer.disconnect();\n",
       "        }}\n",
       "}});\n",
       "\n",
       "// Listen for the removal of the full notebook cells\n",
       "var notebookContainer = gd.closest('#notebook-container');\n",
       "if (notebookContainer) {{\n",
       "    x.observe(notebookContainer, {childList: true});\n",
       "}}\n",
       "\n",
       "// Listen for the clearing of the current output cell\n",
       "var outputEl = gd.closest('.output');\n",
       "if (outputEl) {{\n",
       "    x.observe(outputEl, {childList: true});\n",
       "}}\n",
       "\n",
       "                        })\n",
       "                };\n",
       "                });\n",
       "            </script>\n",
       "        </div>"
      ]
     },
     "metadata": {},
     "output_type": "display_data"
    }
   ],
   "source": [
    "series=df_1.groupby(['city'])['mac_addr'].count()\n",
    "\n",
    "x=['Ajax', 'Ancaster', 'Angus', 'Bradford West Gwillimbury', 'Brampton',\n",
    "       'Brantford', 'Burlington', 'Cambridge', 'Cobourg', 'Concord',\n",
    "       'Etobicoke', 'Guelph', 'Hamilton', 'Kitchener', 'Markham', 'Milton',\n",
    "       'Mississauga', 'Newmarket', 'Niagara Falls', 'North York', 'Oakville',\n",
    "       'Omemee', 'Orangeville', 'Oshawa', 'Peterborough', 'Pickering',\n",
    "       'Port Colborne', 'Quinte West', 'Richmond Hill', 'Scarborough',\n",
    "       'St. Catharines', 'Stratford', 'Thorold', 'Toronto', 'Uxbridge',\n",
    "       'Vaughan', 'Waterloo', 'Welland', 'Willowdale', 'Woodstock']\n",
    "\n",
    "y=[ 16812,   1963,    724,   4246, 158652,   1129,   7132,  13987,\n",
    "         3120, 228202, 766126,  15116,   5743,  15369,  28130,  17977,\n",
    "        68428,   5089,    826,  37169,  16862,    182,     91,  16140,\n",
    "          622,   5083,    197,   2687,  27656, 259327,   5024,   4312,\n",
    "         1984, 315018,   3535, 326827,   5545,   2670,  86914,   4251]\n",
    "\n",
    "data = [go.Bar(x=x, y=y)]\n",
    "\n",
    "layout = go.Layout(\n",
    "    title='Impression',\n",
    "    \n",
    "    xaxis=dict(title='',tickfont=dict(size=12)), \n",
    "    \n",
    "    yaxis=dict(title='Count',titlefont=dict(size=20)))\n",
    "    \n",
    "   \n",
    "fig = go.Figure(data=data, layout=layout)\n",
    "\n",
    "iplot(fig, filename='style-bar')\n",
    "\n"
   ]
  },
  {
   "cell_type": "code",
   "execution_count": 29,
   "metadata": {},
   "outputs": [
    {
     "data": {
      "text/plain": [
       "'fig1.html'"
      ]
     },
     "execution_count": 29,
     "metadata": {},
     "output_type": "execute_result"
    }
   ],
   "source": [
    "\n",
    "import plotly\n",
    "pio.write_image(fig, 'images/fig3.png')\n",
    "\n",
    "#py.plot(fig,filename='sampleplot.html')\n",
    "\n",
    "plotly.offline.plot(fig, filename='fig1.html') "
   ]
  },
  {
   "cell_type": "code",
   "execution_count": null,
   "metadata": {},
   "outputs": [],
   "source": []
  }
 ],
 "metadata": {
  "kernelspec": {
   "display_name": "Python 3",
   "language": "python",
   "name": "python3"
  },
  "language_info": {
   "codemirror_mode": {
    "name": "ipython",
    "version": 3
   },
   "file_extension": ".py",
   "mimetype": "text/x-python",
   "name": "python",
   "nbconvert_exporter": "python",
   "pygments_lexer": "ipython3",
   "version": "3.7.3"
  }
 },
 "nbformat": 4,
 "nbformat_minor": 2
}
